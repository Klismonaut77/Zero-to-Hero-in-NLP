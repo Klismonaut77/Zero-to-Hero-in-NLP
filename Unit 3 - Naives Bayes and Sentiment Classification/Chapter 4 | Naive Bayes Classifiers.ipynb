{
 "cells": [
  {
   "cell_type": "markdown",
   "metadata": {},
   "source": [
    "\n",
    "<h4>Unit 3 <h1 style=\"text-align:center\"> Chapter 4</h1>\n",
    " \n",
    " ---"
   ]
  },
  {
   "cell_type": "markdown",
   "metadata": {},
   "source": [
    "# Naive Bayes Classifiers"
   ]
  },
  {
   "cell_type": "markdown",
   "metadata": {},
   "source": [
    "This notebook will provide an **informal** way of understanding the Naive Bayes Classifiers to keep it easy. For a more formal way click [here](https://web.stanford.edu/class/cs124/lec/naivebayes.pdf)"
   ]
  },
  {
   "cell_type": "markdown",
   "metadata": {},
   "source": [
    "The Bayes rule give a way of breaking a conditional probability into three probabilities.\n",
    "\n",
    "- Prior Probability of class\n",
    "- Likelihood\n",
    "- Prior Probability of feature\n",
    "\n",
    "\n",
    "![Bayes Rule](../images/Bayes_rule.png)"
   ]
  },
  {
   "cell_type": "markdown",
   "metadata": {},
   "source": [
    "> A prior probability is a probability of a variable before taking into account any other variable that affects it."
   ]
  },
  {
   "cell_type": "markdown",
   "metadata": {},
   "source": [
    "## Frequency Table"
   ]
  },
  {
   "cell_type": "markdown",
   "metadata": {},
   "source": [
    "Create a frequency table for each feature(word).\n",
    "\n",
    "Calculate for each word against class."
   ]
  },
  {
   "cell_type": "markdown",
   "metadata": {},
   "source": [
    "Suppose you have a dataset like this"
   ]
  },
  {
   "cell_type": "code",
   "execution_count": 7,
   "metadata": {},
   "outputs": [
    {
     "name": "stdout",
     "output_type": "stream",
     "text": [
      "+------+-------+\n",
      "| word | Class |\n",
      "+------+-------+\n",
      "| Ham  |   0   |\n",
      "| Spam |   1   |\n",
      "| Ham  |   1   |\n",
      "| Spam |   1   |\n",
      "| Ham  |   0   |\n",
      "| Spam |   0   |\n",
      "| Ham  |   1   |\n",
      "+------+-------+\n",
      "Total Records => 7\n"
     ]
    }
   ],
   "source": [
    "from prettytable import PrettyTable\n",
    "    \n",
    "x = PrettyTable()\n",
    "\n",
    "x.field_names = [\"word\", \"Class\"]\n",
    "\n",
    "x.add_row([\"Ham\",\"0\"])\n",
    "x.add_row([\"Spam\",\"1\"])\n",
    "x.add_row([\"Ham\",\"1\"])\n",
    "x.add_row([\"Spam\",\"1\"])\n",
    "x.add_row([\"Ham\",\"0\"])\n",
    "x.add_row([\"Spam\",\"0\"])\n",
    "x.add_row([\"Ham\",\"1\"])\n",
    "\n",
    "print(x)\n",
    "print(\"Total Records => 7\")"
   ]
  },
  {
   "cell_type": "markdown",
   "metadata": {},
   "source": [
    "Let's create a frequency table for this tiny dataset."
   ]
  },
  {
   "cell_type": "markdown",
   "metadata": {},
   "source": [
    "---"
   ]
  },
  {
   "cell_type": "code",
   "execution_count": 19,
   "metadata": {},
   "outputs": [
    {
     "name": "stdout",
     "output_type": "stream",
     "text": [
      "+-----------+----------+----------+\n",
      "|    word   |    0     |    1     |\n",
      "+-----------+----------+----------+\n",
      "|    Ham    |    2     |    2     |\n",
      "|    Spam   |    1     |    2     |\n",
      "| --------- | -------- | -------- |\n",
      "|           |    3     |    4     |\n",
      "+-----------+----------+----------+\n"
     ]
    }
   ],
   "source": [
    "frequency_table = PrettyTable()\n",
    "\n",
    "frequency_table.field_names = [\"word\", \"0\",\"1\"]\n",
    "\n",
    "frequency_table.add_row([\"Ham\",2,2])\n",
    "frequency_table.add_row([\"Spam\",1,2])\n",
    "frequency_table.add_row([\"---------\",\"--------\",\"--------\"])\n",
    "frequency_table.add_row([\" \",3,4])\n",
    "print(frequency_table)"
   ]
  },
  {
   "cell_type": "markdown",
   "metadata": {},
   "source": [
    "---"
   ]
  },
  {
   "cell_type": "markdown",
   "metadata": {},
   "source": [
    "## Likelihood Table\n",
    "\n",
    "> A likelihood table is just frequency table with probabilities."
   ]
  },
  {
   "cell_type": "code",
   "execution_count": 18,
   "metadata": {},
   "outputs": [
    {
     "name": "stdout",
     "output_type": "stream",
     "text": [
      "Remember, total records => 7\n",
      "+---------+------------+------------+---------------+\n",
      "|   word  |     0      |     1      | Probabilities |\n",
      "+---------+------------+------------+---------------+\n",
      "|   Ham   |     2      |     2      |  4/7 = 0.5714 |\n",
      "|   Spam  |     1      |     2      |   3/7=0.4285  |\n",
      "| ------- |  -------   |  -------   |    -------    |\n",
      "|         |            |            |               |\n",
      "|         | 3/7=0.4285 | 4/7=0.5714 |               |\n",
      "+---------+------------+------------+---------------+\n"
     ]
    }
   ],
   "source": [
    "likelihood_table = PrettyTable()\n",
    "print(\"Remember, total records => 7\")\n",
    "likelihood_table.field_names = [\"word\", \"0\",\"1\",\"Probabilities\"]\n",
    "\n",
    "likelihood_table.add_row([\"Ham\",2,2,\"4/7 = 0.5714\"])\n",
    "likelihood_table.add_row([\"Spam\",1,2,\"3/7=0.4285\"])\n",
    "likelihood_table.add_row([\"-\"*7,\"-\"*7,\"-\"*7,\"-\"*7])\n",
    "likelihood_table.add_row([\" \",\" \",\" \",\" \"])\n",
    "likelihood_table.add_row([\" \",\"3/7=0.4285\",\"4/7=0.5714\",\" \"])\n",
    "\n",
    "print(likelihood_table)"
   ]
  },
  {
   "cell_type": "markdown",
   "metadata": {},
   "source": [
    "---"
   ]
  },
  {
   "cell_type": "markdown",
   "metadata": {},
   "source": [
    "Now we can use the above mentioned formula of Bayesian Inference to **classify** text."
   ]
  },
  {
   "cell_type": "markdown",
   "metadata": {},
   "source": [
    "Suppose you are provided with the question that, if a text contains the word ```Ham```, classify it into a class from either 0 or 1."
   ]
  },
  {
   "cell_type": "markdown",
   "metadata": {},
   "source": [
    "The formal way of saying this is, find out that which one has higher probability between the given two.\n",
    "\n",
    "$ P( \"0\" | \"Ham\" ) $ and $ P( \"1\" | \"Spam\" ) $"
   ]
  },
  {
   "cell_type": "markdown",
   "metadata": {},
   "source": [
    "### Check the probability for P ( \"0\" | \"Ham\" )"
   ]
  },
  {
   "cell_type": "markdown",
   "metadata": {},
   "source": [
    "We need three probabilities:\n",
    "\n",
    "- P(\"Ham\"|\"0\")\n",
    "- P(\"Ham\")\n",
    "- P(\"0\")"
   ]
  },
  {
   "cell_type": "markdown",
   "metadata": {},
   "source": [
    "---"
   ]
  },
  {
   "cell_type": "markdown",
   "metadata": {},
   "source": [
    "> P(\"Ham\" | \"0\")"
   ]
  },
  {
   "cell_type": "markdown",
   "metadata": {},
   "source": [
    "Count how many \"Ham\" have \"0\" Class, from the frequency table we see that, **row = \"Ham\"** and **column = \"0\"**, the count = ```2``` out of ```3```"
   ]
  },
  {
   "cell_type": "markdown",
   "metadata": {},
   "source": [
    "Therefore **P(\"Ham\" | \"0\") = 2/3 = 0.666***"
   ]
  },
  {
   "cell_type": "markdown",
   "metadata": {},
   "source": [
    "> P(\"0\")"
   ]
  },
  {
   "cell_type": "markdown",
   "metadata": {},
   "source": [
    "Total records = 7,\n",
    "\n",
    "Total records with class 0 = 3,\n"
   ]
  },
  {
   "cell_type": "markdown",
   "metadata": {},
   "source": [
    "Therefor **P(\"0\") = 3/7 = 0.4285**"
   ]
  },
  {
   "cell_type": "markdown",
   "metadata": {},
   "source": [
    "> P(\"Ham\")"
   ]
  },
  {
   "cell_type": "markdown",
   "metadata": {},
   "source": [
    "Total records = 7,\n",
    "\n",
    "Total records of \"Ham\" = 4\n",
    "\n",
    "Therefore **P(\"Ham\") =  4/7 = 0.5714**"
   ]
  },
  {
   "cell_type": "markdown",
   "metadata": {},
   "source": [
    "---"
   ]
  },
  {
   "cell_type": "markdown",
   "metadata": {},
   "source": [
    "Now plug it in the formula to get the probability of the text with **\"Ham\"** being in class **\"0\"**."
   ]
  },
  {
   "cell_type": "markdown",
   "metadata": {},
   "source": [
    "P(\"0\" | \"Ham\" ) = $ \\frac{P(\"Ham\" | \"0\") * P(\"0\")}{P(\"Ham\")}$"
   ]
  },
  {
   "cell_type": "markdown",
   "metadata": {},
   "source": [
    "P(\"0\" | \"Ham\" ) = $ \\frac{0.66*0.4285}{0.5714}$"
   ]
  },
  {
   "cell_type": "markdown",
   "metadata": {},
   "source": [
    "### P(\"0\" | \"Ham\") = 0.494"
   ]
  },
  {
   "cell_type": "markdown",
   "metadata": {},
   "source": [
    "### Similarly we calculate the probability for P(\"1\" | \"Ham\") i.e. Given \"Ham\" what is the probability that it belongs to class 1."
   ]
  },
  {
   "cell_type": "markdown",
   "metadata": {},
   "source": [
    "---\n"
   ]
  },
  {
   "cell_type": "markdown",
   "metadata": {},
   "source": [
    "Directly writing results"
   ]
  },
  {
   "cell_type": "markdown",
   "metadata": {},
   "source": [
    "- P(\"Ham\") = 4/7 = 0.5714 (remains same)\n",
    "- P(\"1\") = 4/7 = 0.5714\n",
    "- P(\"Ham\" | \"1\") = 2/4 = 0.5"
   ]
  },
  {
   "cell_type": "markdown",
   "metadata": {},
   "source": [
    "### P(\"1\" | \"Ham\") = 0.5"
   ]
  },
  {
   "cell_type": "markdown",
   "metadata": {},
   "source": [
    "As a result given a text with \"Ham\", it's **likely** from **class 1**, because 0.494 < 0.5.\n",
    "\n",
    "\n",
    "It was a close call."
   ]
  },
  {
   "cell_type": "markdown",
   "metadata": {},
   "source": [
    "---"
   ]
  },
  {
   "cell_type": "markdown",
   "metadata": {},
   "source": [
    "Hope you got the intuition on how to do this with _n_ number of words. (You don't have to do this by hand for millions of words)\n",
    "\n",
    "As you can see, how Naive Bayes is just based on frequency because of the bag of words approach. So it does not take into account the interdependence of words.\n",
    "\n",
    "In the coming chapters we do this by using Sklearn."
   ]
  },
  {
   "cell_type": "code",
   "execution_count": null,
   "metadata": {},
   "outputs": [],
   "source": []
  }
 ],
 "metadata": {
  "kernelspec": {
   "display_name": "Python 3",
   "language": "python",
   "name": "python3"
  },
  "language_info": {
   "codemirror_mode": {
    "name": "ipython",
    "version": 3
   },
   "file_extension": ".py",
   "mimetype": "text/x-python",
   "name": "python",
   "nbconvert_exporter": "python",
   "pygments_lexer": "ipython3",
   "version": "3.7.4"
  }
 },
 "nbformat": 4,
 "nbformat_minor": 2
}
